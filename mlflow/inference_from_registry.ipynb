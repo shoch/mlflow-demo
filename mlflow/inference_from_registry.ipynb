{
 "cells": [
  {
   "cell_type": "code",
   "execution_count": 1,
   "id": "43af3de8-a0ec-4def-b413-f47d24f366a3",
   "metadata": {},
   "outputs": [],
   "source": [
    "import mlflow"
   ]
  },
  {
   "cell_type": "code",
   "execution_count": null,
   "id": "56d8c872-1f0a-4247-92f4-48e3a0874f83",
   "metadata": {},
   "outputs": [],
   "source": [
    "## optional set tracking uri to remote\n",
    "# remote_server_uri = \"http://127.0.0.1:5000/\"  # set to your server URI\n",
    "# mlflow.set_tracking_uri(remote_server_uri)"
   ]
  },
  {
   "cell_type": "code",
   "execution_count": 2,
   "id": "81bc47a9-56e4-408a-a7d7-a4313da28b53",
   "metadata": {},
   "outputs": [],
   "source": [
    "model_name = \"RecSys_MovieLens\"\n",
    "stage = \"Production\""
   ]
  },
  {
   "cell_type": "code",
   "execution_count": null,
   "id": "8bb6da0b-eb70-4889-8d81-df195ae30242",
   "metadata": {},
   "outputs": [],
   "source": [
    "model = mlflow.pyfunc.load_model(model_uri=f\"models:/{model_name}/{stage}\")"
   ]
  }
 ],
 "metadata": {
  "kernelspec": {
   "display_name": "Python 3.9.13 ('mlflow-demo')",
   "language": "python",
   "name": "python3"
  },
  "language_info": {
   "codemirror_mode": {
    "name": "ipython",
    "version": 3
   },
   "file_extension": ".py",
   "mimetype": "text/x-python",
   "name": "python",
   "nbconvert_exporter": "python",
   "pygments_lexer": "ipython3",
   "version": "3.9.13"
  },
  "vscode": {
   "interpreter": {
    "hash": "4ae1d770f3e50ed81fe89a698062cfe4ab3e1d9482eaa93203b3f357c40b1918"
   }
  }
 },
 "nbformat": 4,
 "nbformat_minor": 5
}
