{
 "cells": [
  {
   "cell_type": "code",
   "execution_count": 1,
   "id": "43af3de8-a0ec-4def-b413-f47d24f366a3",
   "metadata": {},
   "outputs": [],
   "source": [
    "import mlflow\n",
    "from surprise import KNNWithMeans, SVD\n",
    "\n",
    "from data_loader import DataLoader\n",
    "from evaluation import Evaluation"
   ]
  },
  {
   "cell_type": "code",
   "execution_count": 2,
   "id": "c89470a1",
   "metadata": {},
   "outputs": [],
   "source": [
    "# hyperparameter\n",
    "\n",
    "n_epochs = 20\n",
    "lr_all = 0.005"
   ]
  },
  {
   "cell_type": "markdown",
   "id": "7c8e2ab6",
   "metadata": {},
   "source": [
    "## data_preparation"
   ]
  },
  {
   "cell_type": "code",
   "execution_count": 3,
   "id": "99d54ca2",
   "metadata": {},
   "outputs": [],
   "source": [
    "trainset, testset = DataLoader().get_data()"
   ]
  },
  {
   "cell_type": "markdown",
   "id": "85c3d3d2",
   "metadata": {},
   "source": [
    "## training and evaluation"
   ]
  },
  {
   "cell_type": "code",
   "execution_count": 4,
   "id": "5e83218e",
   "metadata": {},
   "outputs": [
    {
     "data": {
      "text/plain": [
       "{'rmse': 0.9520252350540522,\n",
       " 'precision@10': 0.753325033717191,\n",
       " 'recall@10': 0.42900069473612956}"
      ]
     },
     "execution_count": 4,
     "metadata": {},
     "output_type": "execute_result"
    }
   ],
   "source": [
    "algo = SVD(n_epochs=n_epochs,lr_all=lr_all)\n",
    "\n",
    "algo.fit(trainset)\n",
    "\n",
    "# evaluation\n",
    "predictions = algo.test(testset)\n",
    "results = Evaluation().evaluate(predictions)\n",
    "results"
   ]
  },
  {
   "cell_type": "markdown",
   "id": "a73ff9ff",
   "metadata": {},
   "source": [
    "## Packaging"
   ]
  },
  {
   "cell_type": "code",
   "execution_count": 5,
   "id": "d481578e",
   "metadata": {},
   "outputs": [],
   "source": [
    "import pickle\n",
    "path_packed = 'SVD_Model.pickle'\n",
    "with open(path_packed, 'wb') as handle:\n",
    "    pickle.dump(algo, handle, protocol=pickle.HIGHEST_PROTOCOL)"
   ]
  },
  {
   "cell_type": "markdown",
   "id": "f640e80f",
   "metadata": {},
   "source": [
    "#### Use it somewhere else"
   ]
  },
  {
   "cell_type": "code",
   "execution_count": 6,
   "id": "e2dabb82",
   "metadata": {},
   "outputs": [],
   "source": [
    "import pickle\n",
    "with open(path_packed, 'rb') as handle:\n",
    "    algo = pickle.load(handle)"
   ]
  },
  {
   "cell_type": "code",
   "execution_count": null,
   "id": "9fe5a77e",
   "metadata": {},
   "outputs": [],
   "source": []
  }
 ],
 "metadata": {
  "kernelspec": {
   "display_name": "Python 3.9.13 ('mlflow-demo')",
   "language": "python",
   "name": "python3"
  },
  "language_info": {
   "codemirror_mode": {
    "name": "ipython",
    "version": 3
   },
   "file_extension": ".py",
   "mimetype": "text/x-python",
   "name": "python",
   "nbconvert_exporter": "python",
   "pygments_lexer": "ipython3",
   "version": "3.9.13"
  },
  "vscode": {
   "interpreter": {
    "hash": "4ae1d770f3e50ed81fe89a698062cfe4ab3e1d9482eaa93203b3f357c40b1918"
   }
  }
 },
 "nbformat": 4,
 "nbformat_minor": 5
}
