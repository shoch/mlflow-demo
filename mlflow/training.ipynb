{
 "cells": [
  {
   "cell_type": "code",
   "execution_count": null,
   "id": "43af3de8-a0ec-4def-b413-f47d24f366a3",
   "metadata": {},
   "outputs": [],
   "source": [
    "import mlflow\n",
    "from surprise import KNNWithMeans, SVD\n",
    "\n",
    "from data_loader import DataLoader\n",
    "from evaluation import Evaluation"
   ]
  },
  {
   "cell_type": "code",
   "execution_count": null,
   "id": "9b77b182",
   "metadata": {},
   "outputs": [],
   "source": [
    "## optional set tracking uri to remote\n",
    "# remote_server_uri = \"http://127.0.0.1:5000/\"  # set to your server URI\n",
    "# mlflow.set_tracking_uri(remote_server_uri)"
   ]
  },
  {
   "cell_type": "code",
   "execution_count": null,
   "id": "b22fa80b",
   "metadata": {},
   "outputs": [],
   "source": [
    "# hyperparameter\n",
    "\n",
    "n_epochs = 20\n",
    "lr_all = 0.005"
   ]
  },
  {
   "cell_type": "markdown",
   "id": "7c8e2ab6",
   "metadata": {},
   "source": [
    "#### data_preparation"
   ]
  },
  {
   "cell_type": "code",
   "execution_count": null,
   "id": "99d54ca2",
   "metadata": {},
   "outputs": [],
   "source": [
    "trainset, testset = DataLoader().get_data()"
   ]
  },
  {
   "cell_type": "markdown",
   "id": "cc217708",
   "metadata": {},
   "source": [
    "#### setup experiment"
   ]
  },
  {
   "cell_type": "code",
   "execution_count": null,
   "id": "eb05acd9",
   "metadata": {},
   "outputs": [],
   "source": [
    "EXPERIMENT_NAME = \"RecSys_MovieLens\"\n",
    "\n",
    "experiment = mlflow.get_experiment_by_name(EXPERIMENT_NAME)\n",
    "if experiment is None:\n",
    "    experiment_id = mlflow.create_experiment(EXPERIMENT_NAME) \n",
    "    experiment = mlflow.get_experiment_by_name(EXPERIMENT_NAME)"
   ]
  },
  {
   "cell_type": "markdown",
   "id": "85c3d3d2",
   "metadata": {},
   "source": [
    "## training and evaluation"
   ]
  },
  {
   "cell_type": "code",
   "execution_count": null,
   "id": "5e83218e",
   "metadata": {},
   "outputs": [],
   "source": [
    "mlflow.start_run(experiment_id=experiment.experiment_id, run_name=\"SVD\")\n",
    "mlflow.log_param(\"n_epochs\", n_epochs)\n",
    "mlflow.log_param(\"lr_all\", lr_all)\n",
    "\n",
    "algo = SVD(n_epochs=n_epochs,lr_all=lr_all)\n",
    "\n",
    "mlflow.set_tag(\"algorithm\", type(algo))\n",
    "\n",
    "algo.fit(trainset)\n",
    "\n",
    "# evaluation\n",
    "predictions = algo.test(testset)\n",
    "results = Evaluation().evaluate(predictions)\n",
    "\n",
    "mlflow.log_metrics(\n",
    "metrics={\n",
    "    f\"RMSE\": results['rmse'],\n",
    "    f\"Recall_10\": results['recall@10'],\n",
    "    f\"Precision_10\": results['precision@10'],\n",
    "},)\n",
    "    "
   ]
  },
  {
   "cell_type": "markdown",
   "id": "de793603",
   "metadata": {},
   "source": [
    "#### Packaging"
   ]
  },
  {
   "cell_type": "code",
   "execution_count": null,
   "id": "a1325d49",
   "metadata": {},
   "outputs": [],
   "source": [
    "# Define the model class\n",
    "class PackedSVD(mlflow.pyfunc.PythonModel):\n",
    "    def __init__(self, algo):\n",
    "        self.n = algo\n",
    "\n",
    "    def predict(self, context, model_input):\n",
    "        return algo.predict( uid=model_input['uid'] ,  iid=model_input['iid'])\n",
    "packed_model = PackedSVD(algo)"
   ]
  },
  {
   "cell_type": "code",
   "execution_count": null,
   "id": "4ed5e3ee",
   "metadata": {},
   "outputs": [],
   "source": [
    "mlflow.pyfunc.log_model(\n",
    "    artifact_path=\"SVD\",\n",
    "    python_model=packed_model,\n",
    ")"
   ]
  },
  {
   "cell_type": "code",
   "execution_count": null,
   "id": "bca53e55-4926-4f88-a20c-71fb5dab4606",
   "metadata": {},
   "outputs": [],
   "source": [
    "mlflow.end_run()"
   ]
  }
 ],
 "metadata": {
  "kernelspec": {
   "display_name": "Python 3.9.13 ('mlflow-demo')",
   "language": "python",
   "name": "python3"
  },
  "language_info": {
   "codemirror_mode": {
    "name": "ipython",
    "version": 3
   },
   "file_extension": ".py",
   "mimetype": "text/x-python",
   "name": "python",
   "nbconvert_exporter": "python",
   "pygments_lexer": "ipython3",
   "version": "3.9.13"
  },
  "vscode": {
   "interpreter": {
    "hash": "4ae1d770f3e50ed81fe89a698062cfe4ab3e1d9482eaa93203b3f357c40b1918"
   }
  }
 },
 "nbformat": 4,
 "nbformat_minor": 5
}
